{
 "cells": [
  {
   "cell_type": "code",
   "execution_count": 41,
   "metadata": {},
   "outputs": [],
   "source": [
    "# import needed libraries\n",
    "import scipy as sp\n",
    "import numpy as np\n",
    "import pandas as pd\n",
    "import matplotlib.pyplot as plt\n",
    "from sklearn.decomposition import PCA\n",
    "from sklearn.model_selection import train_test_split"
   ]
  },
  {
   "cell_type": "code",
   "execution_count": 42,
   "metadata": {},
   "outputs": [
    {
     "name": "stdout",
     "output_type": "stream",
     "text": [
      "(8747, 20)\n",
      "(8747, 13)\n"
     ]
    }
   ],
   "source": [
    "# import data\n",
    "data = pd.read_csv('./data/preprocessed/bigframeMirai2.csv')\n",
    "# split data to data and bacground truth \n",
    "\n",
    "cols = data.columns.to_list()[1:14]\n",
    "X = data[cols].to_numpy()\n",
    "Y = data['label'].to_numpy()\n",
    "print(data.shape)\n",
    "print(X.shape)"
   ]
  },
  {
   "cell_type": "code",
   "execution_count": 43,
   "metadata": {},
   "outputs": [],
   "source": [
    "# MLM-mallin \"koulutus\"\n",
    "def mlm_fit(X, Y, R, T):\n",
    "  D_x = sp.spatial.distance.cdist(X, R)\n",
    "  Dlt_y = sp.spatial.distance.cdist(Y, T)\n",
    "  B = np.matmul(np.matmul(np.linalg.inv(np.matmul(np.transpose(D_x),D_x)),np.transpose(D_x)),Dlt_y)\n",
    "  return B"
   ]
  },
  {
   "cell_type": "code",
   "execution_count": 44,
   "metadata": {},
   "outputs": [],
   "source": [
    "# MLM testaus\n",
    "def MLM_test(X_1, R, T, B):\n",
    "  from scipy.optimize import least_squares\n",
    "\n",
    "  def J_fun(y, delta_yT, T):\n",
    "    return np.sum((np.multiply(np.transpose(y-T),(y-T))-delta_yT**2)**2)\n",
    "\n",
    "  y = np.zeros(X_1.shape[0])\n",
    "  a = np.zeros(X_1.shape[0])\n",
    "\n",
    "  for i in range(X_1.shape[0]):\n",
    "    d_xR = sp.spatial.distance.cdist(X_1[i,:].reshape(1,X_1.shape[1]),R)\n",
    "    delta_yT = np.matmul(d_xR,B)\n",
    "    y_hat = least_squares(J_fun,0,method='lm', args=(delta_yT,T))\n",
    "\n",
    "    y[i] = y_hat.x[:]\n",
    "    a[i] = np.sqrt(np.sum(delta_yT**2))\n",
    "  \n",
    "  return y, a"
   ]
  },
  {
   "cell_type": "code",
   "execution_count": 45,
   "metadata": {},
   "outputs": [],
   "source": [
    "def MLM_maj_vote(X_test, R, T, B, k, metriX):\n",
    "  y = np.zeros(X_test.shape[0])\n",
    "  a = np.zeros(X_test.shape[0])\n",
    "\n",
    "  d_xR = sp.spatial.distance.cdist(X_test, R, metric=metriX)\n",
    "  delta_yT = np.matmul(d_xR, B)\n",
    "\n",
    "  from scipy.stats import mode\n",
    "  k_shortest_id = np.argsort(delta_yT)[:,k]\n",
    "  y = mode(T[k_shortest_id,:],axis=1,keepdims=True)[0][:,0]\n",
    "\n",
    "  return y"
   ]
  },
  {
   "cell_type": "code",
   "execution_count": 46,
   "metadata": {},
   "outputs": [],
   "source": [
    "# Datan standardointi ja normalisointi\n",
    "def normalize(X):\n",
    "  minimum = X.min(axis=0, keepdims=True)\n",
    "  maximum = X.max(axis=0, keepdims=True)\n",
    "  keskihajonta = X.std(axis=0, keepdims=True)\n",
    "\n",
    "  #print(minimum)\n",
    "  #print(maximum)\n",
    "\n",
    "  range = maximum - minimum\n",
    "  #print(range)\n",
    "\n",
    "  #forced range\n",
    "\n",
    "  X_fRange = (X - minimum) / range\n",
    "  X_ustd = X / keskihajonta\n",
    "\n",
    "  #print(X_fRange.shape)\n",
    "  return X_fRange\n"
   ]
  },
  {
   "cell_type": "code",
   "execution_count": 47,
   "metadata": {},
   "outputs": [],
   "source": [
    "# Pääkomponenttianalyysi\n",
    "\n",
    "def Pca(X):\n",
    "  #print(X.shape[1])\n",
    "  pca = PCA(n_components=X.shape[1])\n",
    "  X_pca = pca.fit_transform(X)\n",
    "  #print(pca.singular_values_)\n",
    "  return X_pca"
   ]
  },
  {
   "cell_type": "code",
   "execution_count": 48,
   "metadata": {},
   "outputs": [],
   "source": [
    "# Datan jako opetus ja testidataan\n",
    "def Split(X, Y):\n",
    "  X_train, X_test, Y_tr, Y_test = train_test_split(X, Y, test_size=0.4, random_state=42, shuffle=True)\n",
    "  Y_train = Y_tr.reshape(X_train.shape[0],1)\n",
    "\n",
    "  return (X_train, Y_train, X_test, Y_test)"
   ]
  },
  {
   "cell_type": "code",
   "execution_count": 49,
   "metadata": {},
   "outputs": [],
   "source": [
    "# mallin tunnuslukujen laskeminen\n",
    "def perfomanceKPIs(Y_result, Y_true):\n",
    "  Y_res = np.floor(Y_result)\n",
    "  from sklearn.metrics import confusion_matrix, classification_report\n",
    "  #auc = confusion_matrix(Y_res, Y_true,)\n",
    "  #names = ['Benign', 'C&C', 'C&C-FileDownload', 'DDoS', 'wrong']\n",
    "  report = classification_report(Y_res, Y_true, zero_division=True)\n",
    "  return report\n"
   ]
  },
  {
   "cell_type": "code",
   "execution_count": 50,
   "metadata": {},
   "outputs": [
    {
     "name": "stdout",
     "output_type": "stream",
     "text": [
      "[[5]\n",
      " [1]\n",
      " [0]\n",
      " ...\n",
      " [1]\n",
      " [0]\n",
      " [5]]\n"
     ]
    }
   ],
   "source": [
    "X_norm = normalize(X)\n",
    "#print(X_norm.shape)\n",
    "X_pca = Pca(X_norm)\n",
    "X_train, Y_train, X_test, Y_test = Split(X_pca, Y)\n",
    "\n",
    "u = 114\n",
    "R = X_train[::u,:]\n",
    "T = Y_train[::u].reshape(Y_train[::u].shape[0],1)\n",
    "\n",
    "B = mlm_fit(X_train, Y_train, R, T)\n",
    "\n",
    "Y_fitted, a = MLM_test(X_test, R, T, B)\n",
    "Y_voted = MLM_maj_vote(X_test, R, T, B, k=1, metriX='euclidean')"
   ]
  },
  {
   "cell_type": "code",
   "execution_count": 51,
   "metadata": {},
   "outputs": [
    {
     "name": "stdout",
     "output_type": "stream",
     "text": [
      "Luokitteluraportti, Majority voting\n",
      "              precision    recall  f1-score   support\n",
      "\n",
      "         0.0       0.00      0.22      0.01        18\n",
      "         1.0       0.85      0.22      0.36      3034\n",
      "         2.0       0.00      1.00      0.00         0\n",
      "         3.0       0.00      1.00      0.00         0\n",
      "         4.0       0.00      1.00      0.00         0\n",
      "         5.0       0.30      0.75      0.42       447\n",
      "\n",
      "    accuracy                           0.29      3499\n",
      "   macro avg       0.19      0.70      0.13      3499\n",
      "weighted avg       0.78      0.29      0.36      3499\n",
      "\n",
      "Luokitteluraportti, etäisyyden minimointi\n",
      "              precision    recall  f1-score   support\n",
      "\n",
      "         0.0       1.00      0.44      0.62      3499\n",
      "         1.0       0.00      1.00      0.00         0\n",
      "         2.0       0.00      1.00      0.00         0\n",
      "         3.0       0.00      1.00      0.00         0\n",
      "         4.0       0.00      1.00      0.00         0\n",
      "         5.0       0.00      1.00      0.00         0\n",
      "\n",
      "    accuracy                           0.44      3499\n",
      "   macro avg       0.17      0.91      0.10      3499\n",
      "weighted avg       1.00      0.44      0.62      3499\n",
      "\n"
     ]
    }
   ],
   "source": [
    "report_voted = perfomanceKPIs(Y_voted, Y_test)\n",
    "report_fitted = perfomanceKPIs(Y_fitted, Y_test)\n",
    "print('Luokitteluraportti, Majority voting')\n",
    "print(report_voted)\n",
    "print('Luokitteluraportti, etäisyyden minimointi')\n",
    "print(report_fitted)"
   ]
  },
  {
   "cell_type": "markdown",
   "metadata": {},
   "source": [
    "Pisteet luokissa (esimerkkiajo):\n",
    "|luokka|pisteitä <br>alkup.data|T|Y_train|Y_test|\n",
    "|-|-|-|-|-|\n",
    "|0| 3876|26|2322|1554|\n",
    "|1| 1936|9|1138|798|\n",
    "|2| 12|0|5|7|\n",
    "|3| 1|0|0|1|\n",
    "|4| 14|0|7|7|\n",
    "|5| 2908|12|1776|1132|"
   ]
  },
  {
   "cell_type": "code",
   "execution_count": 53,
   "metadata": {},
   "outputs": [
    {
     "data": {
      "image/png": "[encoded data removed]",
      "text/plain": [
       "<Figure size 1000x500 with 6 Axes>"
      ]
     },
     "metadata": {},
     "output_type": "display_data"
    }
   ],
   "source": [
    "fig = plt.figure(figsize=(10,5))\n",
    "plt.subplot(121)\n",
    "plt.scatter(X_test[:,0],X_test[:,1],marker='o',c=Y_voted,sizes=[80])\n",
    "plt.colorbar()\n",
    "plt.scatter(X_train[:,0],X_train[:,1],marker='*',c=Y_train)\n",
    "plt.colorbar()\n",
    "plt.title('luokittelu äänestyksellä')\n",
    "\n",
    "plt.subplot(122)\n",
    "plt.scatter(X_test[:,0],X_test[:,1],marker='o',c=Y_fitted,sizes=[80])\n",
    "plt.colorbar()\n",
    "plt.scatter(X_train[:,0],X_train[:,1],marker='*',c=Y_train)\n",
    "plt.colorbar()\n",
    "plt.title('luokittelu optimoimalla etäisyyttä')\n",
    "\n",
    "plt.savefig('image.png')"
   ]
  },
  {
   "cell_type": "code",
   "execution_count": null,
   "metadata": {},
   "outputs": [],
   "source": []
  }
 ],
 "metadata": {
  "kernelspec": {
   "display_name": "Python 3.10.8 ('KO-scikit-learn')",
   "language": "python",
   "name": "python3"
  },
  "language_info": {
   "codemirror_mode": {
    "name": "ipython",
    "version": 3
   },
   "file_extension": ".py",
   "mimetype": "text/x-python",
   "name": "python",
   "nbconvert_exporter": "python",
   "pygments_lexer": "ipython3",
   "version": "3.10.8"
  },
  "orig_nbformat": 4,
  "vscode": {
   "interpreter": {
    "hash": "f7aac7cc0256750117d067ca9475cec681004e87fdf7e8653d44bece3ee286a1"
   }
  }
 },
 "nbformat": 4,
 "nbformat_minor": 2
}
