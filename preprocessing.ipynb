{
 "cells": [
  {
   "cell_type": "code",
   "execution_count": 1,
   "metadata": {},
   "outputs": [],
   "source": [
    "import pandas as pd"
   ]
  },
  {
   "cell_type": "code",
   "execution_count": 2,
   "metadata": {},
   "outputs": [],
   "source": [
    "column_template = ['ts',\n",
    "              'uid',\n",
    "              'id.orig_h',\n",
    "              'id.orig_p',\n",
    "              'id.resp_h',\n",
    "              'id.resp_p',\n",
    "              'proto',\n",
    "              'service',\n",
    "              'duration',\n",
    "              'orig_bytes',\n",
    "              'resp_bytes',\n",
    "              'conn_state',\n",
    "              'local_orig',\n",
    "              'local_resp',\n",
    "              'missed_bytes',\n",
    "              'history',\n",
    "              'orig_pkts',\n",
    "              'orig_ip_bytes',\n",
    "              'resp_pkts',\n",
    "              'resp_ip_bytes',\n",
    "              'label']"
   ]
  },
  {
   "cell_type": "code",
   "execution_count": 3,
   "metadata": {},
   "outputs": [],
   "source": [
    "capture_34 = \"./data/IoTScenarios/CTU-IoT-Malware-Capture-34-1/bro/conn.log.labeled\"\n",
    "df34 = pd.read_table(filepath_or_buffer=capture_34, skiprows=8) #, nrows=100000)\n",
    "df34.columns= column_template\n",
    "df34.drop(df34.tail(1).index,inplace=True)"
   ]
  },
  {
   "cell_type": "code",
   "execution_count": 4,
   "metadata": {},
   "outputs": [],
   "source": [
    "# capture_43 = \"./data/IoTScenarios/CTU-IoT-Malware-Capture-43-1/bro/conn.log.labeled\"\n",
    "# df43 = pd.read_table(filepath_or_buffer=capture_43, skiprows=8) #, nrows=100000)\n",
    "# df43.columns= column_template\n",
    "# df43.drop(df43.tail(1).index,inplace=True)"
   ]
  },
  {
   "cell_type": "code",
   "execution_count": 5,
   "metadata": {},
   "outputs": [],
   "source": [
    "capture_44 = \"./data/IoTScenarios/CTU-IoT-Malware-Capture-44-1/bro/conn.log.labeled\"\n",
    "df44 = pd.read_table(filepath_or_buffer=capture_44, skiprows=8) #, nrows=100000)\n",
    "df44.columns= column_template\n",
    "df44.drop(df44.tail(1).index,inplace=True)"
   ]
  },
  {
   "cell_type": "code",
   "execution_count": 6,
   "metadata": {},
   "outputs": [
    {
     "name": "stderr",
     "output_type": "stream",
     "text": [
      "C:\\Users\\hullc\\AppData\\Local\\Temp\\ipykernel_1148\\3995793876.py:2: DtypeWarning: Columns (0,8,9,10) have mixed types. Specify dtype option on import or set low_memory=False.\n",
      "  df49 = pd.read_table(filepath_or_buffer=capture_49, skiprows=8) #, nrows=100000)\n"
     ]
    }
   ],
   "source": [
    "capture_49 = \"./data/IoTScenarios/CTU-IoT-Malware-Capture-49-1/bro/conn.log.labeled\"\n",
    "df49 = pd.read_table(filepath_or_buffer=capture_49, skiprows=8) #, nrows=100000)\n",
    "df49.columns= column_template\n",
    "df49.drop(df49.tail(1).index,inplace=True)"
   ]
  },
  {
   "cell_type": "code",
   "execution_count": 7,
   "metadata": {},
   "outputs": [],
   "source": [
    "# capture_52 = \"./data/IoTScenarios/CTU-IoT-Malware-Capture-52-1/bro/conn.log.labeled\"\n",
    "# df52 = pd.read_table(filepath_or_buffer=capture_52, skiprows=8)#, nrows=100000)\n",
    "# df52.columns= column_template\n",
    "# df52.drop(df52.tail(1).index,inplace=True)"
   ]
  },
  {
   "cell_type": "code",
   "execution_count": 8,
   "metadata": {},
   "outputs": [],
   "source": [
    "capture_20 = \"./data/IoTScenarios/CTU-IoT-Malware-Capture-20-1/bro/conn.log.labeled\"\n",
    "df20 = pd.read_table(filepath_or_buffer=capture_20, skiprows=8)#, nrows=100000)\n",
    "df20.columns= column_template\n",
    "df20.drop(df20.tail(1).index,inplace=True)"
   ]
  },
  {
   "cell_type": "code",
   "execution_count": 9,
   "metadata": {},
   "outputs": [],
   "source": [
    "capture_21 = \"./data/IoTScenarios/CTU-IoT-Malware-Capture-21-1/bro/conn.log.labeled\"\n",
    "df21 = pd.read_table(filepath_or_buffer=capture_21, skiprows=8)#, nrows=100000)\n",
    "df21.columns= column_template\n",
    "df21.drop(df21.tail(1).index,inplace=True)"
   ]
  },
  {
   "cell_type": "code",
   "execution_count": 10,
   "metadata": {},
   "outputs": [],
   "source": [
    "capture_42 = \"./data/IoTScenarios/CTU-IoT-Malware-Capture-42-1/bro/conn.log.labeled\"\n",
    "df42 = pd.read_table(filepath_or_buffer=capture_42, skiprows=8)#, nrows=100000)\n",
    "df42.columns= column_template\n",
    "df42.drop(df42.tail(1).index,inplace=True)"
   ]
  },
  {
   "cell_type": "code",
   "execution_count": 11,
   "metadata": {},
   "outputs": [
    {
     "name": "stderr",
     "output_type": "stream",
     "text": [
      "C:\\Users\\hullc\\AppData\\Local\\Temp\\ipykernel_1148\\2642099829.py:2: DtypeWarning: Columns (0) have mixed types. Specify dtype option on import or set low_memory=False.\n",
      "  df60 = pd.read_table(filepath_or_buffer=capture_60, skiprows=8)#, nrows=100000)\n"
     ]
    }
   ],
   "source": [
    "capture_60 = \"./data/IoTScenarios/CTU-IoT-Malware-Capture-60-1/bro/conn.log.labeled\"\n",
    "df60 = pd.read_table(filepath_or_buffer=capture_60, skiprows=8)#, nrows=100000)\n",
    "df60.columns= column_template\n",
    "df60.drop(df60.tail(1).index,inplace=True)"
   ]
  },
  {
   "cell_type": "code",
   "execution_count": 12,
   "metadata": {},
   "outputs": [],
   "source": [
    "# capture_17 = \"./data/IoTScenarios/CTU-IoT-Malware-Capture-17-1/bro/conn.log.labeled\"\n",
    "# df17 = pd.read_table(filepath_or_buffer=capture_17, skiprows=8)#, nrows=100000)\n",
    "# df17.columns= column_template\n",
    "# df17.drop(df17.tail(1).index,inplace=True)"
   ]
  },
  {
   "cell_type": "code",
   "execution_count": 13,
   "metadata": {},
   "outputs": [
    {
     "name": "stderr",
     "output_type": "stream",
     "text": [
      "C:\\Users\\hullc\\AppData\\Local\\Temp\\ipykernel_1148\\2636752049.py:2: DtypeWarning: Columns (0) have mixed types. Specify dtype option on import or set low_memory=False.\n",
      "  df36 = pd.read_table(filepath_or_buffer=capture_36, skiprows=8)#, nrows=100000)\n"
     ]
    }
   ],
   "source": [
    "capture_36 = \"./data/IoTScenarios/CTU-IoT-Malware-Capture-36-1/bro/conn.log.labeled\"\n",
    "df36 = pd.read_table(filepath_or_buffer=capture_36, skiprows=8)#, nrows=100000)\n",
    "df36.columns= column_template\n",
    "df36.drop(df36.tail(1).index,inplace=True)"
   ]
  },
  {
   "cell_type": "code",
   "execution_count": 14,
   "metadata": {},
   "outputs": [
    {
     "name": "stderr",
     "output_type": "stream",
     "text": [
      "C:\\Users\\hullc\\AppData\\Local\\Temp\\ipykernel_1148\\2332076194.py:2: DtypeWarning: Columns (0) have mixed types. Specify dtype option on import or set low_memory=False.\n",
      "  df33 = pd.read_table(filepath_or_buffer=capture_33, skiprows=8)#, nrows=100000)\n"
     ]
    }
   ],
   "source": [
    "capture_33 = \"./data/IoTScenarios/CTU-IoT-Malware-Capture-33-1/bro/conn.log.labeled\"\n",
    "df33 = pd.read_table(filepath_or_buffer=capture_33, skiprows=8)#, nrows=100000)\n",
    "df33.columns= column_template\n",
    "df33.drop(df33.tail(1).index,inplace=True)"
   ]
  },
  {
   "cell_type": "code",
   "execution_count": 15,
   "metadata": {},
   "outputs": [],
   "source": [
    "capture_8 = \"./data/IoTScenarios/CTU-IoT-Malware-Capture-8-1/bro/conn.log.labeled\"\n",
    "df8 = pd.read_table(filepath_or_buffer=capture_8, skiprows=8)#, nrows=100000)\n",
    "df8.columns= column_template\n",
    "df8.drop(df8.tail(1).index,inplace=True)"
   ]
  },
  {
   "cell_type": "code",
   "execution_count": 16,
   "metadata": {},
   "outputs": [
    {
     "name": "stderr",
     "output_type": "stream",
     "text": [
      "C:\\Users\\hullc\\AppData\\Local\\Temp\\ipykernel_1148\\4142591781.py:2: DtypeWarning: Columns (0) have mixed types. Specify dtype option on import or set low_memory=False.\n",
      "  df35 = pd.read_table(filepath_or_buffer=capture_35, skiprows=8)#, nrows=100000)\n"
     ]
    }
   ],
   "source": [
    "capture_35 = \"./data/IoTScenarios/CTU-IoT-Malware-Capture-35-1/bro/conn.log.labeled\"\n",
    "df35 = pd.read_table(filepath_or_buffer=capture_35, skiprows=8)#, nrows=100000)\n",
    "df35.columns= column_template\n",
    "df35.drop(df35.tail(1).index,inplace=True)"
   ]
  },
  {
   "cell_type": "code",
   "execution_count": 17,
   "metadata": {},
   "outputs": [
    {
     "name": "stderr",
     "output_type": "stream",
     "text": [
      "C:\\Users\\hullc\\AppData\\Local\\Temp\\ipykernel_1148\\744261127.py:2: DtypeWarning: Columns (0,8,9,10) have mixed types. Specify dtype option on import or set low_memory=False.\n",
      "  df48 = pd.read_table(filepath_or_buffer=capture_48, skiprows=8)#, nrows=100000)\n"
     ]
    }
   ],
   "source": [
    "capture_48 = \"./data/IoTScenarios/CTU-IoT-Malware-Capture-48-1/bro/conn.log.labeled\"\n",
    "df48 = pd.read_table(filepath_or_buffer=capture_48, skiprows=8)#, nrows=100000)\n",
    "df48.columns= column_template\n",
    "df48.drop(df48.tail(1).index,inplace=True)"
   ]
  },
  {
   "cell_type": "code",
   "execution_count": 18,
   "metadata": {},
   "outputs": [],
   "source": [
    "# capture_39 = \"./data/IoTScenarios/CTU-IoT-Malware-Capture-39-1/bro/conn.log.labeled\"\n",
    "# df39 = pd.read_table(filepath_or_buffer=capture_39, skiprows=8)#, nrows=100000)\n",
    "# df39.columns= column_template\n",
    "# df39.drop(df39.tail(1).index,inplace=True)"
   ]
  },
  {
   "cell_type": "code",
   "execution_count": 19,
   "metadata": {},
   "outputs": [
    {
     "name": "stderr",
     "output_type": "stream",
     "text": [
      "C:\\Users\\hullc\\AppData\\Local\\Temp\\ipykernel_1148\\3557738352.py:2: DtypeWarning: Columns (0) have mixed types. Specify dtype option on import or set low_memory=False.\n",
      "  df7 = pd.read_table(filepath_or_buffer=capture_7, skiprows=8)#, nrows=100000)\n"
     ]
    }
   ],
   "source": [
    "capture_7 = \"./data/IoTScenarios/CTU-IoT-Malware-Capture-7-1/bro/conn.log.labeled\"\n",
    "df7 = pd.read_table(filepath_or_buffer=capture_7, skiprows=8)#, nrows=100000)\n",
    "df7.columns= column_template\n",
    "df7.drop(df7.tail(1).index,inplace=True)"
   ]
  },
  {
   "cell_type": "code",
   "execution_count": 20,
   "metadata": {},
   "outputs": [
    {
     "name": "stderr",
     "output_type": "stream",
     "text": [
      "C:\\Users\\hullc\\AppData\\Local\\Temp\\ipykernel_1148\\4160124726.py:2: DtypeWarning: Columns (0) have mixed types. Specify dtype option on import or set low_memory=False.\n",
      "  df9 = pd.read_table(filepath_or_buffer=capture_9, skiprows=8)#, nrows=100000)\n"
     ]
    }
   ],
   "source": [
    "capture_9 = \"./data/IoTScenarios/CTU-IoT-Malware-Capture-9-1/bro/conn.log.labeled\"\n",
    "df9 = pd.read_table(filepath_or_buffer=capture_9, skiprows=8)#, nrows=100000)\n",
    "df9.columns= column_template\n",
    "df9.drop(df9.tail(1).index,inplace=True)"
   ]
  },
  {
   "cell_type": "code",
   "execution_count": 21,
   "metadata": {},
   "outputs": [
    {
     "name": "stderr",
     "output_type": "stream",
     "text": [
      "C:\\Users\\hullc\\AppData\\Local\\Temp\\ipykernel_1148\\1187697650.py:2: DtypeWarning: Columns (0) have mixed types. Specify dtype option on import or set low_memory=False.\n",
      "  df3 = pd.read_table(filepath_or_buffer=capture_3, skiprows=8)#, nrows=100000)\n"
     ]
    }
   ],
   "source": [
    "capture_3 = \"./data/IoTScenarios/CTU-IoT-Malware-Capture-3-1/bro/conn.log.labeled\"\n",
    "df3 = pd.read_table(filepath_or_buffer=capture_3, skiprows=8)#, nrows=100000)\n",
    "df3.columns= column_template\n",
    "df3.drop(df3.tail(1).index,inplace=True)"
   ]
  },
  {
   "cell_type": "code",
   "execution_count": 22,
   "metadata": {},
   "outputs": [
    {
     "name": "stderr",
     "output_type": "stream",
     "text": [
      "C:\\Users\\hullc\\AppData\\Local\\Temp\\ipykernel_1148\\1165744582.py:2: DtypeWarning: Columns (0) have mixed types. Specify dtype option on import or set low_memory=False.\n",
      "  df1 = pd.read_table(filepath_or_buffer=capture_1, skiprows=8)#, nrows=100000)\n"
     ]
    }
   ],
   "source": [
    "capture_1 = \"./data/IoTScenarios/CTU-IoT-Malware-Capture-1-1/bro/conn.log.labeled\"\n",
    "df1 = pd.read_table(filepath_or_buffer=capture_1, skiprows=8)#, nrows=100000)\n",
    "df1.columns= column_template\n",
    "df1.drop(df1.tail(1).index,inplace=True)"
   ]
  },
  {
   "cell_type": "code",
   "execution_count": 23,
   "metadata": {},
   "outputs": [],
   "source": [
    "#frames=[df33]\n",
    "frames= [df1, df20, df21, df3, df34, df35, df36, df42, df44, df48, df49, df60, df7, df8, df9]\n",
    "names = [\"df1\", \"df20\", \"df21\", \"df3\", \"df34\", \"df35\", \"df36\", \"df42\", \"df44\", \"df48\", \"df49\", \"df60\", \"df7\", \"df8\", \"df9\"]"
   ]
  },
  {
   "cell_type": "code",
   "execution_count": 24,
   "metadata": {},
   "outputs": [],
   "source": [
    "for frame in frames:\n",
    "  frame.loc[(frame.label == '-   Malicious   PartOfAHorizontalPortScan'), 'label'] = 'PartOfAHorizontalPortScan'\n",
    "  frame.loc[(frame.label == '(empty)   Malicious   PartOfAHorizontalPortScan'), 'label'] = 'PartOfAHorizontalPortScan'\n",
    "  frame.loc[(frame.label == '-   Malicious   Okiru'), 'label'] = 'Okiru'\n",
    "  frame.loc[(frame.label == '(empty)   Malicious   Okiru'), 'label'] = 'Okiru'\n",
    "  frame.loc[(frame.label == '-   Benign   -'), 'label'] = 'Benign'\n",
    "  frame.loc[(frame.label == '(empty)   Benign   -'), 'label'] = 'Benign'\n",
    "  frame.loc[(frame.label == '-   Malicious   DDoS'), 'label'] = 'DDoS'\n",
    "  frame.loc[(frame.label == '-   Malicious   C&C'), 'label'] = 'C&C'\n",
    "  frame.loc[(frame.label == '(empty)   Malicious   C&C'), 'label'] = 'C&C'\n",
    "  frame.loc[(frame.label == '-   Malicious   Attack'), 'label'] = 'Attack'\n",
    "  frame.loc[(frame.label == '(empty)   Malicious   Attack'), 'label'] = 'Attack'\n",
    "  frame.loc[(frame.label == '-   Malicious   C&C-HeartBeat'), 'label'] = 'C&C-HeartBeat'\n",
    "  frame.loc[(frame.label == '(empty)   Malicious   C&C-HeartBeat'), 'label'] = 'C&C-HeartBeat'\n",
    "  frame.loc[(frame.label == '-   Malicious   C&C-FileDownload'), 'label'] = 'C&C-FileDownload'\n",
    "  frame.loc[(frame.label == '-   Malicious   C&C-Torii'), 'label'] = 'C&C-Torii'\n",
    "  frame.loc[(frame.label == '-   Malicious   C&C-HeartBeat-FileDownload'), 'label'] = 'C&C-HeartBeat-FileDownload'\n",
    "  frame.loc[(frame.label == '-   Malicious   FileDownload'), 'label'] = 'FileDownload'\n",
    "  frame.loc[(frame.label == '-   Malicious   C&C-Mirai'), 'label'] = 'C&C-Mirai'\n",
    "  frame.loc[(frame.label == '-   Malicious   Okiru-Attack'), 'label'] = 'Okiru-Attack'"
   ]
  },
  {
   "cell_type": "code",
   "execution_count": 25,
   "metadata": {},
   "outputs": [],
   "source": [
    "pd.options.display.max_rows = 300\n",
    "pd.options.display.max_columns = 300"
   ]
  },
  {
   "cell_type": "code",
   "execution_count": 26,
   "metadata": {},
   "outputs": [],
   "source": [
    "for frame in frames:\n",
    "  frame = frame.drop(columns=['ts','uid','id.orig_h','id.orig_p','id.resp_h','id.resp_p',\n",
    "                               'service','local_orig','local_resp','history'], inplace=True)"
   ]
  },
  {
   "cell_type": "code",
   "execution_count": 27,
   "metadata": {},
   "outputs": [],
   "source": [
    "for frame in frames:\n",
    "  frame['duration'].replace('-','0',inplace=True)\n",
    "  frame['orig_bytes'].replace('-','0',inplace=True)\n",
    "  frame['resp_bytes'].replace('-','0',inplace=True)\n",
    "  frame.fillna(-1,inplace=True)"
   ]
  },
  {
   "cell_type": "code",
   "execution_count": 28,
   "metadata": {},
   "outputs": [],
   "source": [
    "i = 0\n",
    "while i < len(frames):\n",
    "  frames[i] = pd.get_dummies(frames[i], columns=['proto'])\n",
    "  frames[i] = pd.get_dummies(frames[i], columns=['conn_state'])\n",
    "  frames[i].to_csv('./data/preprocessed/bigframe'+ names[i]+'.csv')\n",
    "  i = i + 1\n",
    "#frames[i].to_csv('./data/preprocessed/bigframe33.csv')"
   ]
  }
 ],
 "metadata": {
  "kernelspec": {
   "display_name": "Python 3.9.13 ('harkka')",
   "language": "python",
   "name": "python3"
  },
  "language_info": {
   "codemirror_mode": {
    "name": "ipython",
    "version": 3
   },
   "file_extension": ".py",
   "mimetype": "text/x-python",
   "name": "python",
   "nbconvert_exporter": "python",
   "pygments_lexer": "ipython3",
   "version": "3.9.13"
  },
  "orig_nbformat": 4,
  "vscode": {
   "interpreter": {
    "hash": "54425bcc906fe18c29fe2a8da2248b3bfb5ede3ebc6be588faf9b2a17bb97996"
   }
  }
 },
 "nbformat": 4,
 "nbformat_minor": 2
}
