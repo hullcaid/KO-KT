{
 "cells": [
  {
   "cell_type": "code",
   "execution_count": 16,
   "metadata": {},
   "outputs": [],
   "source": [
    "import pandas as pd"
   ]
  },
  {
   "cell_type": "code",
   "execution_count": 17,
   "metadata": {},
   "outputs": [],
   "source": [
    "column_template = ['ts',\n",
    "              'uid',\n",
    "              'id.orig_h',\n",
    "              'id.orig_p',\n",
    "              'id.resp_h',\n",
    "              'id.resp_p',\n",
    "              'proto',\n",
    "              'service',\n",
    "              'duration',\n",
    "              'orig_bytes',\n",
    "              'resp_bytes',\n",
    "              'conn_state',\n",
    "              'local_orig',\n",
    "              'local_resp',\n",
    "              'missed_bytes',\n",
    "              'history',\n",
    "              'orig_pkts',\n",
    "              'orig_ip_bytes',\n",
    "              'resp_pkts',\n",
    "              'resp_ip_bytes',\n",
    "              'label']"
   ]
  },
  {
   "cell_type": "code",
   "execution_count": 18,
   "metadata": {},
   "outputs": [],
   "source": [
    "capture_44 = \"./data/IoTScenarios/CTU-IoT-Malware-Capture-44-1/bro/conn.log.labeled\"\n",
    "df44 = pd.read_table(filepath_or_buffer=capture_44, skiprows=8, header=None) #, nrows=100000)\n",
    "df44.columns= column_template\n",
    "df44.drop(df44.tail(1).index,inplace=True)"
   ]
  },
  {
   "cell_type": "code",
   "execution_count": 19,
   "metadata": {},
   "outputs": [
    {
     "name": "stderr",
     "output_type": "stream",
     "text": [
      "C:\\Users\\hullc\\AppData\\Local\\Temp\\ipykernel_16660\\2152934637.py:2: DtypeWarning: Columns (0,8,9,10) have mixed types. Specify dtype option on import or set low_memory=False.\n",
      "  df49 = pd.read_table(filepath_or_buffer=capture_49, skiprows=8, header=None) #, nrows=100000)\n"
     ]
    }
   ],
   "source": [
    "capture_49 = \"./data/IoTScenarios/CTU-IoT-Malware-Capture-49-1/bro/conn.log.labeled\"\n",
    "df49 = pd.read_table(filepath_or_buffer=capture_49, skiprows=8, header=None) #, nrows=100000)\n",
    "df49.columns= column_template\n",
    "df49.drop(df49.tail(1).index,inplace=True)"
   ]
  },
  {
   "cell_type": "code",
   "execution_count": 20,
   "metadata": {},
   "outputs": [],
   "source": [
    "#frames=[df44]\n",
    "frames= [df44, df49]\n",
    "#names = [\"df1\", \"df20\", \"df21\", \"df3\", \"df34\", \"df35\", \"df36\", \"df42\", \"df44\", \"df48\", \"df49\", \"df60\", \"df7\", \"df8\", \"df9\"]"
   ]
  },
  {
   "cell_type": "markdown",
   "metadata": {},
   "source": [
    "0 = Benign\n",
    "1 = C&C\n",
    "2 = C&C-FileDownload\n",
    "3 = DDoS\n",
    "4 = FileDownload\n",
    "5 = PartOfAHorizontalPortScan\n"
   ]
  },
  {
   "cell_type": "code",
   "execution_count": 21,
   "metadata": {},
   "outputs": [],
   "source": [
    "for frame in frames:\n",
    "  frame.loc[(frame.label == '-   Malicious   PartOfAHorizontalPortScan'), 'label'] = '5'\n",
    "  frame.loc[(frame.label == '(empty)   Malicious   PartOfAHorizontalPortScan'), 'label'] = '5'\n",
    "  frame.loc[(frame.label == '-   Malicious   Okiru'), 'label'] = 'Okiru'\n",
    "  frame.loc[(frame.label == '(empty)   Malicious   Okiru'), 'label'] = 'Okiru'\n",
    "  frame.loc[(frame.label == '-   Benign   -'), 'label'] = '0'\n",
    "  frame.loc[(frame.label == '(empty)   Benign   -'), 'label'] = '0'\n",
    "  frame.loc[(frame.label == '-   Malicious   DDoS'), 'label'] = '3'\n",
    "  frame.loc[(frame.label == '-   Malicious   C&C'), 'label'] = '1'\n",
    "  frame.loc[(frame.label == '(empty)   Malicious   C&C'), 'label'] = '1'\n",
    "  frame.loc[(frame.label == '-   Malicious   Attack'), 'label'] = 'Attack'\n",
    "  frame.loc[(frame.label == '(empty)   Malicious   Attack'), 'label'] = 'Attack'\n",
    "  frame.loc[(frame.label == '-   Malicious   C&C-HeartBeat'), 'label'] = 'C&C-HeartBeat'\n",
    "  frame.loc[(frame.label == '(empty)   Malicious   C&C-HeartBeat'), 'label'] = 'C&C-HeartBeat'\n",
    "  frame.loc[(frame.label == '-   Malicious   C&C-FileDownload'), 'label'] = '2'\n",
    "  frame.loc[(frame.label == '-   Malicious   C&C-Torii'), 'label'] = 'C&C-Torii'\n",
    "  frame.loc[(frame.label == '-   Malicious   C&C-HeartBeat-FileDownload'), 'label'] = 'C&C-HeartBeat-FileDownload'\n",
    "  frame.loc[(frame.label == '-   Malicious   FileDownload'), 'label'] = '4'\n",
    "  frame.loc[(frame.label == '-   Malicious   C&C-Mirai'), 'label'] = 'C&C-Mirai'\n",
    "  frame.loc[(frame.label == '-   Malicious   Okiru-Attack'), 'label'] = 'Okiru-Attack'"
   ]
  },
  {
   "cell_type": "code",
   "execution_count": 22,
   "metadata": {},
   "outputs": [],
   "source": [
    "pd.options.display.max_rows = 300\n",
    "pd.options.display.max_columns = 300"
   ]
  },
  {
   "cell_type": "code",
   "execution_count": 23,
   "metadata": {},
   "outputs": [],
   "source": [
    "for frame in frames:\n",
    "  frame = frame.drop(columns=['ts','uid','id.orig_h','id.orig_p','id.resp_h','id.resp_p',\n",
    "                               'service','local_orig','local_resp','history'], inplace=True)"
   ]
  },
  {
   "cell_type": "code",
   "execution_count": 24,
   "metadata": {},
   "outputs": [],
   "source": [
    "for frame in frames:\n",
    "  frame['duration'].replace('-','0',inplace=True)\n",
    "  frame['orig_bytes'].replace('-','0',inplace=True)\n",
    "  frame['resp_bytes'].replace('-','0',inplace=True)\n",
    "  frame.fillna(-1,inplace=True)"
   ]
  },
  {
   "cell_type": "code",
   "execution_count": 25,
   "metadata": {},
   "outputs": [],
   "source": [
    "df_c = pd.concat(frames)\n",
    "df_c = pd.get_dummies(df_c, columns=['proto'])\n",
    "df_c = pd.get_dummies(df_c, columns=['conn_state'])\n",
    "df_c.sort_values(by=['label'], inplace=True)"
   ]
  },
  {
   "cell_type": "code",
   "execution_count": 26,
   "metadata": {},
   "outputs": [],
   "source": [
    "df0 = df_c[df_c['label'] == '0']\n",
    "df1 = df_c[df_c['label'] == '1']\n",
    "df2 = df_c[df_c['label'] == '2']\n",
    "df3 = df_c[df_c['label'] == '3']\n",
    "df4 = df_c[df_c['label'] == '4']\n",
    "df5 = df_c[df_c['label'] == '5'].iloc[::1859,:]"
   ]
  },
  {
   "cell_type": "code",
   "execution_count": 27,
   "metadata": {},
   "outputs": [
    {
     "name": "stdout",
     "output_type": "stream",
     "text": [
      "(3876, 20)\n",
      "(1936, 20)\n",
      "(12, 20)\n",
      "(1, 20)\n",
      "(14, 20)\n",
      "(2908, 20)\n"
     ]
    }
   ],
   "source": [
    "print(df0.shape)\n",
    "print(df1.shape)\n",
    "print(df2.shape)\n",
    "print(df3.shape)\n",
    "print(df4.shape)\n",
    "print(df5.shape)"
   ]
  },
  {
   "cell_type": "code",
   "execution_count": 28,
   "metadata": {},
   "outputs": [],
   "source": [
    "df_f = pd.concat([df0, df1, df2, df3,df4,df5])\n",
    "\n",
    "cols = df_f.columns.tolist()\n",
    "newOrder = cols[:7] + cols[9:]\n",
    "newOrder.append(cols[8])"
   ]
  },
  {
   "cell_type": "code",
   "execution_count": 29,
   "metadata": {},
   "outputs": [],
   "source": [
    "df_f.to_csv('./data/preprocessed/bigframeMirai2.csv', columns=newOrder)\n",
    "df_f.to_csv('./data/preprocessed/bigframeMirai2_TT.csv', columns=['label'])\n"
   ]
  }
 ],
 "metadata": {
  "kernelspec": {
   "display_name": "Python 3.9.13 ('harkka')",
   "language": "python",
   "name": "python3"
  },
  "language_info": {
   "codemirror_mode": {
    "name": "ipython",
    "version": 3
   },
   "file_extension": ".py",
   "mimetype": "text/x-python",
   "name": "python",
   "nbconvert_exporter": "python",
   "pygments_lexer": "ipython3",
   "version": "3.9.13"
  },
  "orig_nbformat": 4,
  "vscode": {
   "interpreter": {
    "hash": "54425bcc906fe18c29fe2a8da2248b3bfb5ede3ebc6be588faf9b2a17bb97996"
   }
  }
 },
 "nbformat": 4,
 "nbformat_minor": 2
}
